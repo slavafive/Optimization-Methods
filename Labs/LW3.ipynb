{
 "cells": [
  {
   "cell_type": "code",
   "execution_count": 3,
   "metadata": {},
   "outputs": [],
   "source": [
    "import numpy as np\n",
    "from scipy.sparse import csr_matrix as csr\n",
    "from scipy.sparse import eye"
   ]
  },
  {
   "cell_type": "markdown",
   "metadata": {},
   "source": [
    "# LU Decomposition"
   ]
  },
  {
   "cell_type": "code",
   "execution_count": 4,
   "metadata": {},
   "outputs": [],
   "source": [
    "def LU_decompse(A): # LU разложение Вход 2х мерный массив, Выход 2х мерные массивы\n",
    "    n_rows = len(A)\n",
    "    n_cols = len(A[0])\n",
    "    L = np.eye(n_rows, n_cols)\n",
    "    U = np.zeros((n_rows, n_cols))\n",
    "    for i in range(n_rows):\n",
    "        for j in range(n_cols):\n",
    "            if i <= j:\n",
    "                _s = 0\n",
    "                for k in range(i):\n",
    "                    _s += L[i][k] * U[k][j]\n",
    "                U[i][j] = A[i][j] - _s\n",
    "            else:\n",
    "                _s = 0\n",
    "                for k in range(j):\n",
    "                    _s += L[i][k] * U[k][j]\n",
    "                L[i][j] = (A[i][j] - _s) / U[j][j]\n",
    "    return L, U"
   ]
  },
  {
   "cell_type": "code",
   "execution_count": 5,
   "metadata": {},
   "outputs": [],
   "source": [
    "def LU_decompse_csr(A): # LU разложение Вход csr матрица Выход csr матрица (не оптимально)\n",
    "    n_rows, n_cols = A.shape\n",
    "    L = eye(n_rows, n_cols, format=\"csr\")\n",
    "    U = csr((n_rows, n_cols), dtype=float)\n",
    "    for i in range(n_rows):\n",
    "        for j in range(n_cols):\n",
    "            if i <= j:\n",
    "                _s = 0\n",
    "                for k in range(i):\n",
    "                    _s += L[i, k] * U[k, j]\n",
    "                U[i, j] = A[i, j] - _s\n",
    "            else:\n",
    "                _s = 0\n",
    "                for k in range(j):\n",
    "                    _s += L[i, k] * U[k, j]\n",
    "                L[i, j] = (A[i, j] - _s) / U[j, j]\n",
    "    return L, U"
   ]
  },
  {
   "cell_type": "code",
   "execution_count": 6,
   "metadata": {},
   "outputs": [],
   "source": [
    "def LU_decompse_csr_full(A):\n",
    "    n_rows, n_cols = A.shape\n",
    "    l_data = []\n",
    "    l_indices = []\n",
    "    l_indptr = []\n",
    "    u_data = []\n",
    "    u_indices = []\n",
    "    u_indptr = []\n",
    "    for i in range(n_rows):\n",
    "        l_indptr.append(len(l_data))\n",
    "        u_indptr.append(len(u_data))\n",
    "        for j in range(n_cols):\n",
    "            if i <= j:\n",
    "                _s = 0\n",
    "                if i == j:\n",
    "                    l_data.append(1)\n",
    "                    l_indices.append(j)\n",
    "                for x, y in zip(l_data[l_indptr[i]:], list(map(lambda x: x[0], filter(lambda x: x[1] == j, zip(u_data, u_indices))))):\n",
    "                    _s += x * y\n",
    "                u_data.append(A[i, j] - _s)\n",
    "                u_indices.append(j)\n",
    "            else:\n",
    "                _s = 0\n",
    "                for x, y in zip(l_data[l_indptr[i]:], list(map(lambda x: x[0], filter(lambda x: x[1] == j, zip(u_data, u_indices))))):\n",
    "                    _s += x * y\n",
    "                l_data.append((A[i, j] - _s) / u_data[u_indptr[j]])\n",
    "                l_indices.append(j)\n",
    "    l_indptr.append(len(l_data))\n",
    "    u_indptr.append(len(u_data))\n",
    "    return csr((l_data, l_indices, l_indptr)), csr((u_data, u_indices, u_indptr))"
   ]
  },
  {
   "cell_type": "code",
   "execution_count": 8,
   "metadata": {},
   "outputs": [
    {
     "name": "stdout",
     "output_type": "stream",
     "text": [
      "sA\n",
      "  (0, 0)\t10\n",
      "  (0, 1)\t-7\n",
      "  (1, 0)\t-3\n",
      "  (1, 1)\t6\n",
      "  (1, 2)\t2\n",
      "  (2, 0)\t5\n",
      "  (2, 1)\t-1\n",
      "  (2, 2)\t5\n"
     ]
    }
   ],
   "source": [
    "A = np.array([[10, -7, 0], \n",
    "              [-3, 6, 2], \n",
    "              [5, -1, 5]])\n",
    "sA = csr(A)\n",
    "print(\"sA\")\n",
    "print(sA)\n",
    "\n",
    "# print(LU_decompse(A))\n",
    "# l, u =  LU_decompse_csr(sA)\n",
    "# print(\"L: \", l)\n",
    "# print(\"U: \", u)\n",
    "\n",
    "# l, u = LU_decompse_csr_full(sA)\n",
    "# print(\"L: \", l.toarray())\n",
    "# print(\"U: \", u.toarray())"
   ]
  },
  {
   "cell_type": "markdown",
   "metadata": {},
   "source": [
    "# Usage of sparse matrices"
   ]
  },
  {
   "cell_type": "code",
   "execution_count": 9,
   "metadata": {},
   "outputs": [
    {
     "data": {
      "text/plain": [
       "<3x3 sparse matrix of type '<class 'numpy.int64'>'\n",
       "\twith 6 stored elements in Compressed Sparse Row format>"
      ]
     },
     "execution_count": 9,
     "metadata": {},
     "output_type": "execute_result"
    }
   ],
   "source": [
    "row = np.array([0, 0, 1, 2, 2, 2])\n",
    "col = np.array([0, 2, 2, 0, 1, 2])\n",
    "data = np.array([1, 2, 3, 4, 5, 6])\n",
    "mtx = csr((data, (row, col)), shape=(3, 3))\n",
    "mtx     "
   ]
  },
  {
   "cell_type": "code",
   "execution_count": 18,
   "metadata": {},
   "outputs": [
    {
     "data": {
      "text/plain": [
       "matrix([[1, 0, 2],\n",
       "        [0, 0, 3],\n",
       "        [4, 5, 6]])"
      ]
     },
     "execution_count": 18,
     "metadata": {},
     "output_type": "execute_result"
    }
   ],
   "source": [
    "mtx.todense()"
   ]
  },
  {
   "cell_type": "code",
   "execution_count": 19,
   "metadata": {},
   "outputs": [
    {
     "data": {
      "text/plain": [
       "array([1, 2, 3, 4, 5, 6])"
      ]
     },
     "execution_count": 19,
     "metadata": {},
     "output_type": "execute_result"
    }
   ],
   "source": [
    "mtx.data"
   ]
  },
  {
   "cell_type": "code",
   "execution_count": 20,
   "metadata": {},
   "outputs": [
    {
     "data": {
      "text/plain": [
       "array([0, 2, 2, 0, 1, 2], dtype=int32)"
      ]
     },
     "execution_count": 20,
     "metadata": {},
     "output_type": "execute_result"
    }
   ],
   "source": [
    "mtx.indices"
   ]
  },
  {
   "cell_type": "code",
   "execution_count": 21,
   "metadata": {},
   "outputs": [
    {
     "data": {
      "text/plain": [
       "array([0, 2, 3, 6], dtype=int32)"
      ]
     },
     "execution_count": 21,
     "metadata": {},
     "output_type": "execute_result"
    }
   ],
   "source": [
    "mtx.indptr"
   ]
  },
  {
   "cell_type": "markdown",
   "metadata": {},
   "source": [
    "# Solving a system of linear equations"
   ]
  },
  {
   "cell_type": "markdown",
   "metadata": {},
   "source": [
    "## Additional functions"
   ]
  },
  {
   "cell_type": "code",
   "execution_count": 10,
   "metadata": {},
   "outputs": [],
   "source": [
    "# get i-th row of sparse matrix A\n",
    "\n",
    "def get_row(A, i):\n",
    "    _, n = A.shape\n",
    "    row = np.zeros(n)\n",
    "    non_zero_elements_in_row = A.data[A.indptr[i]:A.indptr[i + 1]]\n",
    "    indices_of_non_zero_elements_in_row = A.indices[A.indptr[i]:A.indptr[i + 1]]\n",
    "    k = 0\n",
    "    for i in range(n):\n",
    "        if k < len(non_zero_elements_in_row) and i == indices_of_non_zero_elements_in_row[k]:\n",
    "            row[i] = non_zero_elements_in_row[k]\n",
    "            k += 1\n",
    "    return row"
   ]
  },
  {
   "cell_type": "markdown",
   "metadata": {},
   "source": [
    "## Solve function"
   ]
  },
  {
   "cell_type": "code",
   "execution_count": 12,
   "metadata": {},
   "outputs": [],
   "source": [
    "# A: sparse matrix\n",
    "# b: array of values\n",
    "\n",
    "def solve(A, b):\n",
    "    L, U = LU_decompse_csr_full(A)\n",
    "    _, n = A.shape\n",
    "    \n",
    "    # solving Ly = b\n",
    "    y = np.zeros(n)\n",
    "    for i in range(n):\n",
    "        row = get_row(L, i)\n",
    "        y[i] = b[i] - np.dot(y[:i], row[:i])\n",
    "    \n",
    "    # solving Ux = y\n",
    "    x = np.zeros(n)\n",
    "    for i in range(n - 1, -1, -1):\n",
    "        row = get_row(U, i)\n",
    "        x[i] = (y[i] - np.dot(x[i + 1:], row[i + 1:])) / row[i]\n",
    "        \n",
    "    return x"
   ]
  },
  {
   "cell_type": "markdown",
   "metadata": {},
   "source": [
    "## Example"
   ]
  },
  {
   "cell_type": "code",
   "execution_count": 13,
   "metadata": {},
   "outputs": [
    {
     "name": "stdout",
     "output_type": "stream",
     "text": [
      "Solution:  [0.65168539 0.82022472 0.11235955]\n"
     ]
    }
   ],
   "source": [
    "A = np.array([[10, -7, 2], \n",
    "              [-3, 4, 6], \n",
    "              [5, -1, 5]])\n",
    "A_sparse = csr(A)\n",
    "b = [1, 2, 3]\n",
    "x = solve(A_sparse, b)\n",
    "print(\"Solution: \", x)"
   ]
  },
  {
   "cell_type": "markdown",
   "metadata": {},
   "source": [
    "# Finding inverse matrix"
   ]
  },
  {
   "cell_type": "code",
   "execution_count": 14,
   "metadata": {},
   "outputs": [],
   "source": [
    "def inverse(A):\n",
    "    _, n = A.shape\n",
    "    I = np.eye(n)\n",
    "    A_inverse = np.zeros(A.shape)\n",
    "    for i in range(n):\n",
    "        x = solve(A, I[:, i])\n",
    "        A_inverse[:, i] = x\n",
    "    return csr(A_inverse)"
   ]
  },
  {
   "cell_type": "markdown",
   "metadata": {},
   "source": [
    "## Example"
   ]
  },
  {
   "cell_type": "code",
   "execution_count": 102,
   "metadata": {},
   "outputs": [
    {
     "name": "stdout",
     "output_type": "stream",
     "text": [
      "  (0, 0)\t-0.2921348314606741\n",
      "  (0, 1)\t-0.3707865168539326\n",
      "  (0, 2)\t0.5617977528089887\n",
      "  (1, 0)\t-0.5056179775280898\n",
      "  (1, 1)\t-0.44943820224719105\n",
      "  (1, 2)\t0.7415730337078651\n",
      "  (2, 0)\t0.19101123595505617\n",
      "  (2, 1)\t0.2808988764044944\n",
      "  (2, 2)\t-0.21348314606741572\n"
     ]
    }
   ],
   "source": [
    "A = np.array([[10, -7, 2], \n",
    "              [-3, 4, 6], \n",
    "              [5, -1, 5]])\n",
    "A_sparse = csr(A)\n",
    "A_inverse = inverse(A)\n",
    "print(A_inverse)"
   ]
  },
  {
   "cell_type": "markdown",
   "metadata": {},
   "source": [
    "# Gilbert Matrices"
   ]
  },
  {
   "cell_type": "code",
   "execution_count": 25,
   "metadata": {},
   "outputs": [
    {
     "name": "stdout",
     "output_type": "stream",
     "text": [
      "k = 1 \terror = 0.0 \tx' = [1.] \n",
      "\n",
      "k = 2 \terror = 0.0 \tx' = [1. 2.] \n",
      "\n",
      "k = 3 \terror = 0.0 \tx' = [1. 2. 3.] \n",
      "\n",
      "k = 4 \terror = 0.0 \tx' = [1. 2. 3. 4.] \n",
      "\n",
      "k = 5 \terror = 0.0 \tx' = [1. 2. 3. 4. 5.] \n",
      "\n",
      "k = 6 \terror = 0.0 \tx' = [1. 2. 3. 4. 5. 6.] \n",
      "\n",
      "k = 7 \terror = 0.0 \tx' = [1.         2.         2.99999999 4.00000003 4.99999994 6.00000006\n",
      " 6.99999998] \n",
      "\n",
      "k = 8 \terror = 0.0 \tx' = [1.         2.         3.00000005 3.99999975 5.00000066 5.99999909\n",
      " 7.00000064 7.99999982] \n",
      "\n",
      "k = 9 \terror = 0.00016 \tx' = [1.         1.99999989 3.0000018  3.99998727 5.00004631 5.99990609\n",
      " 7.00010725 7.99993553 9.00001587] \n",
      "\n",
      "k = 10 \terror = 0.00041 \tx' = [ 1.          2.00000005  2.99999885  4.00001073  4.99994742  6.0001482\n",
      "  6.99975132  8.00024521  8.99986893 10.00002929] \n",
      "\n",
      "k = 11 \terror = 0.0345 \tx' = [ 0.99999999  2.00000144  2.99996419  4.0003869   4.99776213  6.0076678\n",
      "  6.98367917  8.0218068   8.98220856 10.00809994 10.99842307] \n",
      "\n",
      "k = 12 \terror = 3.89577 \tx' = [ 0.99999976  2.00003     2.99905972  4.01277547  4.9065703   6.40963956\n",
      "  5.86079848 10.0585763   6.59033858 11.76226715 10.26826515 12.13167968] \n",
      "\n",
      "k = 13 \terror = 357.85277 \tx' = [   0.99999664    2.00052334    2.97990553    4.33363595    2.01007593\n",
      "   22.1937814   -49.43231643  138.7408263  -194.46459561  220.19970605\n",
      " -127.23506008   64.37501057    4.29850746] \n",
      "\n"
     ]
    }
   ],
   "source": [
    "def generate_gilbert_matrix(k):\n",
    "    matrix = np.zeros((k, k))\n",
    "    for i in range(k):\n",
    "        for j in range(k):\n",
    "            matrix[i][j] = 1 / (i + j + 1)\n",
    "    return matrix\n",
    "\n",
    "\n",
    "def solve_system(k):\n",
    "    A = generate_gilbert_matrix(k)\n",
    "    x = np.zeros((k))\n",
    "    for i in range(k):\n",
    "        x[i] = i + 1\n",
    "    F = np.dot(A, x)\n",
    "    x_new = solve(csr(A), F)\n",
    "    error = np.linalg.norm(x - x_new)\n",
    "    return x_new, error\n",
    "    \n",
    "\n",
    "def solve_systems(k):\n",
    "    error_array = []\n",
    "    x_new_array = []\n",
    "    for i in range(1, k + 1):\n",
    "        x_new, error = solve_system(i)\n",
    "        x_new_array.append(x_new)\n",
    "        error_array.append(error)\n",
    "        print(\"k =\", i, \"\\terror =\", round(error, 5), \"\\tx' =\", x_new, \"\\n\")\n",
    "    return error_array, x_new_array\n",
    "    \n",
    "\n",
    "solve_systems(13)"
   ]
  }
 ],
 "metadata": {
  "kernelspec": {
   "display_name": "Python 3",
   "language": "python",
   "name": "python3"
  },
  "language_info": {
   "codemirror_mode": {
    "name": "ipython",
    "version": 3
   },
   "file_extension": ".py",
   "mimetype": "text/x-python",
   "name": "python",
   "nbconvert_exporter": "python",
   "pygments_lexer": "ipython3",
   "version": "3.8.5"
  }
 },
 "nbformat": 4,
 "nbformat_minor": 4
}
