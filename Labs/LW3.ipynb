{
 "cells": [
  {
   "cell_type": "code",
   "execution_count": null,
   "metadata": {},
   "outputs": [],
   "source": [
    "import numpy as np\n",
    "from scipy.sparse import csr_matrix as csr\n",
    "from scipy.sparse import eye\n",
    "import random"
   ]
  },
  {
   "cell_type": "code",
   "execution_count": null,
   "metadata": {},
   "outputs": [],
   "source": [
    "from prettytable import PrettyTable\n",
    "\n",
    "def print_matrix(A):\n",
    "    k, n = A.shape\n",
    "    p = PrettyTable()\n",
    "    for i in range(k):\n",
    "        for j in range(k):\n",
    "            A[i][j] = round(A[i][j], 3)\n",
    "        p.add_row(A[i])\n",
    "    print(p.get_string(header=False, border=False))\n",
    "    print()"
   ]
  },
  {
   "cell_type": "code",
   "execution_count": null,
   "metadata": {},
   "outputs": [],
   "source": [
    "pip install PrettyTable"
   ]
  },
  {
   "cell_type": "markdown",
   "metadata": {},
   "source": [
    "# LU Decomposition"
   ]
  },
  {
   "cell_type": "code",
   "execution_count": null,
   "metadata": {},
   "outputs": [],
   "source": [
    "def LU_decompse(A): # LU разложение Вход 2х мерный массив, Выход 2х мерные массивы\n",
    "    n_rows = len(A)\n",
    "    n_cols = len(A[0])\n",
    "    L = np.eye(n_rows, n_cols)\n",
    "    U = np.zeros((n_rows, n_cols))\n",
    "    for i in range(n_rows):\n",
    "        for j in range(n_cols):\n",
    "            if i <= j:\n",
    "                _s = 0\n",
    "                for k in range(i):\n",
    "                    _s += L[i][k] * U[k][j]\n",
    "                U[i][j] = A[i][j] - _s\n",
    "            else:\n",
    "                _s = 0\n",
    "                for k in range(j):\n",
    "                    _s += L[i][k] * U[k][j]\n",
    "                L[i][j] = (A[i][j] - _s) / U[j][j]\n",
    "    return L, U"
   ]
  },
  {
   "cell_type": "code",
   "execution_count": null,
   "metadata": {},
   "outputs": [],
   "source": [
    "def LU_decompse_csr(A): # LU разложение Вход csr матрица Выход csr матрица (не оптимально)\n",
    "    n_rows, n_cols = A.shape\n",
    "    L = eye(n_rows, n_cols, format=\"csr\")\n",
    "    U = csr((n_rows, n_cols), dtype=float)\n",
    "    for i in range(n_rows):\n",
    "        for j in range(n_cols):\n",
    "            if i <= j:\n",
    "                _s = 0\n",
    "                for k in range(i):\n",
    "                    _s += L[i, k] * U[k, j]\n",
    "                U[i, j] = A[i, j] - _s\n",
    "            else:\n",
    "                _s = 0\n",
    "                for k in range(j):\n",
    "                    _s += L[i, k] * U[k, j]\n",
    "                L[i, j] = (A[i, j] - _s) / U[j, j]\n",
    "    return L, U"
   ]
  },
  {
   "cell_type": "code",
   "execution_count": null,
   "metadata": {},
   "outputs": [],
   "source": [
    "def LU_decompse_csr_full(A):\n",
    "    n_rows, n_cols = A.shape\n",
    "    l_data = []\n",
    "    l_indices = []\n",
    "    l_indptr = []\n",
    "    u_data = []\n",
    "    u_indices = []\n",
    "    u_indptr = []\n",
    "    for i in range(n_rows):\n",
    "        l_indptr.append(len(l_data))\n",
    "        u_indptr.append(len(u_data))\n",
    "        for j in range(n_cols):\n",
    "            if i <= j:\n",
    "                _s = 0\n",
    "                if i == j:\n",
    "                    l_data.append(1)\n",
    "                    l_indices.append(j)\n",
    "                for x, y in zip(l_data[l_indptr[i]:], list(map(lambda x: x[0], filter(lambda x: x[1] == j, zip(u_data, u_indices))))):\n",
    "                    _s += x * y\n",
    "                u_data.append(A[i, j] - _s)\n",
    "                u_indices.append(j)\n",
    "            else:\n",
    "                _s = 0\n",
    "                for x, y in zip(l_data[l_indptr[i]:], list(map(lambda x: x[0], filter(lambda x: x[1] == j, zip(u_data, u_indices))))):\n",
    "                    _s += x * y\n",
    "                l_data.append((A[i, j] - _s) / u_data[u_indptr[j]])\n",
    "                l_indices.append(j)\n",
    "    l_indptr.append(len(l_data))\n",
    "    u_indptr.append(len(u_data))\n",
    "    return csr((l_data, l_indices, l_indptr)), csr((u_data, u_indices, u_indptr))"
   ]
  },
  {
   "cell_type": "markdown",
   "metadata": {},
   "source": [
    "## Example"
   ]
  },
  {
   "cell_type": "code",
   "execution_count": null,
   "metadata": {},
   "outputs": [],
   "source": [
    "A = np.array([\n",
    "    [6, -3, 5, 0, 2, 0, 0],\n",
    "    [-4, 0, 7, -3, 0, 2, 0],\n",
    "    [0, 9, -3, -6, 0, 7, 1],\n",
    "    [5, -2, 0, 0, 1, 7, -3],\n",
    "    [-1, 0, 0, 5, 0, 2, 0],\n",
    "    [9, -8, 7, 0, 2, 3, 0],\n",
    "    [3, 0, -4, 1, 9, 0, 5]\n",
    "])\n",
    "L, U = LU_decompse(A)\n",
    "print(\"Matrix A\")\n",
    "print_matrix(A)\n",
    "print(\"Matrix L\")\n",
    "print_matrix(L)\n",
    "print(\"Matrix U\")\n",
    "print_matrix(U)\n",
    "B = np.dot(L, U)\n",
    "print(\"Matrix L * U\")\n",
    "print_matrix(B)"
   ]
  },
  {
   "cell_type": "code",
   "execution_count": null,
   "metadata": {},
   "outputs": [],
   "source": [
    "A = np.array([[10, -7.6666, 0], \n",
    "              [-3, 6, 2], \n",
    "              [5, -1, 5]])\n",
    "\n",
    "print_matrix(A)\n",
    "# sA = csr(A)\n",
    "# print(\"sA\")\n",
    "# print(sA)\n",
    "\n",
    "# print(LU_decompse(A))\n",
    "# l, u =  LU_decompse_csr(sA)\n",
    "# print(\"L: \", l)\n",
    "# print(\"U: \", u)\n",
    "\n",
    "# l, u = LU_decompse_csr_full(sA)\n",
    "# print(\"L: \", l.toarray())\n",
    "# print(\"U: \", u.toarray())"
   ]
  },
  {
   "cell_type": "markdown",
   "metadata": {},
   "source": [
    "# Usage of sparse matrices"
   ]
  },
  {
   "cell_type": "code",
   "execution_count": null,
   "metadata": {},
   "outputs": [],
   "source": [
    "row = np.array([0, 0, 1, 2, 2, 2])\n",
    "col = np.array([0, 2, 2, 0, 1, 2])\n",
    "data = np.array([1, 2, 3, 4, 5, 6])\n",
    "mtx = csr((data, (row, col)), shape=(3, 3))\n",
    "mtx     "
   ]
  },
  {
   "cell_type": "code",
   "execution_count": null,
   "metadata": {},
   "outputs": [],
   "source": [
    "mtx.todense()"
   ]
  },
  {
   "cell_type": "code",
   "execution_count": null,
   "metadata": {},
   "outputs": [],
   "source": [
    "mtx.data"
   ]
  },
  {
   "cell_type": "code",
   "execution_count": null,
   "metadata": {},
   "outputs": [],
   "source": [
    "mtx.indices"
   ]
  },
  {
   "cell_type": "code",
   "execution_count": null,
   "metadata": {},
   "outputs": [],
   "source": [
    "mtx.indptr"
   ]
  },
  {
   "cell_type": "markdown",
   "metadata": {},
   "source": [
    "# Solving a system of linear equations"
   ]
  },
  {
   "cell_type": "markdown",
   "metadata": {},
   "source": [
    "## Additional functions"
   ]
  },
  {
   "cell_type": "code",
   "execution_count": null,
   "metadata": {},
   "outputs": [],
   "source": [
    "# get i-th row of sparse matrix A\n",
    "\n",
    "def get_row(A, i):\n",
    "    _, n = A.shape\n",
    "    row = np.zeros(n)\n",
    "    non_zero_elements_in_row = A.data[A.indptr[i]:A.indptr[i + 1]]\n",
    "    indices_of_non_zero_elements_in_row = A.indices[A.indptr[i]:A.indptr[i + 1]]\n",
    "    k = 0\n",
    "    for i in range(n):\n",
    "        if k < len(non_zero_elements_in_row) and i == indices_of_non_zero_elements_in_row[k]:\n",
    "            row[i] = non_zero_elements_in_row[k]\n",
    "            k += 1\n",
    "    return row"
   ]
  },
  {
   "cell_type": "markdown",
   "metadata": {},
   "source": [
    "## Solve function"
   ]
  },
  {
   "cell_type": "code",
   "execution_count": null,
   "metadata": {},
   "outputs": [],
   "source": [
    "# A: sparse matrix\n",
    "# b: array of values\n",
    "\n",
    "def solve(A, b):\n",
    "    L, U = LU_decompse_csr_full(A)\n",
    "    _, n = A.shape\n",
    "    \n",
    "    # solving Ly = b\n",
    "    y = np.zeros(n)\n",
    "    for i in range(n):\n",
    "        row = get_row(L, i)\n",
    "        y[i] = b[i] - np.dot(y[:i], row[:i])\n",
    "    \n",
    "    # solving Ux = y\n",
    "    x = np.zeros(n)\n",
    "    for i in range(n - 1, -1, -1):\n",
    "        row = get_row(U, i)\n",
    "        x[i] = (y[i] - np.dot(x[i + 1:], row[i + 1:])) / row[i]\n",
    "        \n",
    "    return x"
   ]
  },
  {
   "cell_type": "markdown",
   "metadata": {},
   "source": [
    "## Example"
   ]
  },
  {
   "cell_type": "code",
   "execution_count": null,
   "metadata": {},
   "outputs": [],
   "source": [
    "A = np.array([[10, -7, 2, -3, 0, 0], \n",
    "              [-3, 4, 6, 0, 5, 4], \n",
    "              [5, -1, 5, -9, 2, 8],\n",
    "              [0, 1, -6, 3, 2, 7],\n",
    "              [0, 0, 0, 5, -9, 3],\n",
    "              [6, 0, 4, 7, -2, 0]\n",
    "])\n",
    "b = [-15, 23, -3, -34, 27, 8]\n",
    "x = solve(csr(A), b)\n",
    "print(\"Matrix A\")\n",
    "print_matrix(A)\n",
    "print(\"Vector b\\n\", b, \"\\n\")\n",
    "print(\"Vector x\\n \", x, \"\\n\")\n",
    "print(\"Vector A * x\")\n",
    "print(np.dot(A, x))"
   ]
  },
  {
   "cell_type": "markdown",
   "metadata": {},
   "source": [
    "# Finding inverse matrix"
   ]
  },
  {
   "cell_type": "code",
   "execution_count": null,
   "metadata": {},
   "outputs": [],
   "source": [
    "def inverse(A):\n",
    "    _, n = A.shape\n",
    "    I = np.eye(n)\n",
    "    A_inverse = np.zeros(A.shape)\n",
    "    for i in range(n):\n",
    "        x = solve(A, I[:, i])\n",
    "        A_inverse[:, i] = x\n",
    "    return csr(A_inverse)"
   ]
  },
  {
   "cell_type": "markdown",
   "metadata": {},
   "source": [
    "## Example"
   ]
  },
  {
   "cell_type": "code",
   "execution_count": null,
   "metadata": {},
   "outputs": [],
   "source": [
    "A = np.array([\n",
    "    [3, -5, 0, 2, 0, 8],\n",
    "    [4, 1, 2, 0, 4, 3],\n",
    "    [1, -1, 3, 0, 2, 0],\n",
    "    [0, 1, 9, -2, 5, 0],\n",
    "    [7, -4, -5, 0, 6, -3],\n",
    "    [0, -4, 2, 8, 0, 7]\n",
    "])\n",
    "\n",
    "np.set_printoptions(precision=3)\n",
    "\n",
    "print(\"Matrix A\")\n",
    "print_matrix(A)\n",
    "print(\"Inverse Matrix A\")\n",
    "A_inverse = inverse(csr(A)).todense()\n",
    "print(A_inverse, \"\\n\")\n",
    "print(\"Matrix E\")\n",
    "E = np.dot(A, A_inverse)\n",
    "print(E)"
   ]
  },
  {
   "cell_type": "markdown",
   "metadata": {},
   "source": [
    "# Diagonal Matrices"
   ]
  },
  {
   "cell_type": "code",
   "execution_count": 128,
   "metadata": {},
   "outputs": [
    {
     "name": "stdout",
     "output_type": "stream",
     "text": [
      "k = 1 \terror = 0.0 \tx' = [1.]\n",
      "k = 2 \terror = 0.0 \tx' = [1. 2.]\n",
      "k = 3 \terror = 0.0 \tx' = [1. 2. 3.]\n",
      "k = 4 \terror = 0.0 \tx' = [1. 2. 3. 4.]\n",
      "k = 5 \terror = 0.0 \tx' = [1. 2. 3. 4. 5.]\n",
      "k = 6 \terror = 0.0 \tx' = [1. 2. 3. 4. 5. 6.]\n",
      "k = 7 \terror = 0.0 \tx' = [1. 2. 3. 4. 5. 6. 7.]\n",
      "k = 8 \terror = 0.0 \tx' = [1. 2. 3. 4. 5. 6. 7. 8.]\n",
      "k = 9 \terror = 1e-05 \tx' = [1. 2. 3. 4. 5. 6. 7. 8. 9.]\n",
      "k = 10 \terror = 0.00012 \tx' = [ 1.  2.  3.  4.  5.  6.  7.  8.  9. 10.]\n",
      "k = 11 \terror = 0.00113 \tx' = [ 1.  2.  3.  4.  5.  6.  7.  8.  9. 10. 11.]\n",
      "k = 12 \terror = 0.00626 \tx' = [ 1.002  2.002  3.002  4.002  5.002  6.002  7.002  8.002  9.002 10.002\n",
      " 11.002 12.002]\n",
      "k = 13 \terror = 0.67356 \tx' = [ 1.187  2.187  3.187  4.187  5.187  6.187  7.187  8.187  9.187 10.187\n",
      " 11.187 12.187 13.187]\n",
      "k = 14 \terror = 7.48331 \tx' = [ 3.  4.  5.  6.  7.  8.  9. 10. 11. 12. 13. 14. 15. 16.]\n",
      "k = 15 \terror = 58.09475 \tx' = [-14. -13. -12. -11. -10.  -9.  -8.  -7.  -6.  -5.  -4.  -3.  -2.  -1.\n",
      "   0.]\n",
      "k = 16 \terror = nan \tx' = [nan nan nan nan nan nan nan nan nan nan nan nan nan nan nan nan]\n",
      "k = 17 \terror = 20.61553 \tx' = [-4. -3. -2. -1.  0.  1.  2.  3.  4.  5.  6.  7.  8.  9. 10. 11. 12.]\n",
      "k = 18 \terror = 144.24978 \tx' = [-33. -32. -31. -30. -29. -28. -27. -26. -25. -24. -23. -22. -21. -20.\n",
      " -19. -18. -17. -16.]\n",
      "k = 19 \terror = 65.38348 \tx' = [-1.400e+01 -1.300e+01 -1.200e+01 -1.100e+01 -1.000e+01 -9.000e+00\n",
      " -8.000e+00 -7.000e+00 -6.000e+00 -5.000e+00 -4.000e+00 -3.000e+00\n",
      " -2.000e+00 -1.000e+00  4.919e-16  1.000e+00  2.000e+00  3.000e+00\n",
      "  4.000e+00]\n",
      "k = 20 \terror = nan \tx' = [nan nan nan nan nan nan nan nan nan nan nan nan nan nan nan nan nan nan\n",
      " nan nan]\n",
      "k = 21 \terror = 22.91288 \tx' = [-4.000e+00 -3.000e+00 -2.000e+00 -1.000e+00  4.289e-15  1.000e+00\n",
      "  2.000e+00  3.000e+00  4.000e+00  5.000e+00  6.000e+00  7.000e+00\n",
      "  8.000e+00  9.000e+00  1.000e+01  1.100e+01  1.200e+01  1.300e+01\n",
      "  1.400e+01  1.500e+01  1.600e+01]\n",
      "k = 22 \terror = nan \tx' = [nan inf inf inf inf inf inf inf inf inf inf inf inf inf inf inf inf inf\n",
      " inf inf inf inf]\n",
      "k ="
     ]
    },
    {
     "name": "stderr",
     "output_type": "stream",
     "text": [
      "<ipython-input-59-bf432800b33b>:18: RuntimeWarning: invalid value encountered in double_scalars\n",
      "  x[i] = (y[i] - np.dot(x[i + 1:], row[i + 1:])) / row[i]\n",
      "<ipython-input-59-bf432800b33b>:18: RuntimeWarning: divide by zero encountered in double_scalars\n",
      "  x[i] = (y[i] - np.dot(x[i + 1:], row[i + 1:])) / row[i]\n"
     ]
    },
    {
     "name": "stdout",
     "output_type": "stream",
     "text": [
      " 23 \terror = 59.14859 \tx' = [-11.333 -10.333  -9.333  -8.333  -7.333  -6.333  -5.333  -4.333  -3.333\n",
      "  -2.333  -1.333  -0.333   0.667   1.667   2.667   3.667   4.667   5.667\n",
      "   6.667   7.667   8.667   9.667  10.667]\n",
      "k = 24 \terror = nan \tx' = [nan nan nan nan nan nan nan nan nan nan nan nan nan nan nan nan nan nan\n",
      " nan nan nan nan nan nan]\n",
      "k = 25 \terror = 85.0 \tx' = [-1.600e+01 -1.500e+01 -1.400e+01 -1.300e+01 -1.200e+01 -1.100e+01\n",
      " -1.000e+01 -9.000e+00 -8.000e+00 -7.000e+00 -6.000e+00 -5.000e+00\n",
      " -4.000e+00 -3.000e+00 -2.000e+00 -1.000e+00  1.717e-15  1.000e+00\n",
      "  2.000e+00  3.000e+00  4.000e+00  5.000e+00  6.000e+00  7.000e+00\n",
      "  8.000e+00]\n",
      "k = 26 \terror = nan \tx' = [nan inf inf inf inf inf inf inf inf inf inf inf inf inf inf inf inf inf\n",
      " inf inf inf inf inf inf inf inf]\n",
      "k = 27 \terror = nan \tx' = [ nan  nan -inf -inf -inf -inf -inf -inf -inf -inf -inf -inf -inf -inf\n",
      " -inf -inf -inf -inf -inf -inf -inf -inf -inf -inf -inf -inf -inf]\n",
      "k = 28 \terror = 63.49803 \tx' = [-11. -10.  -9.  -8.  -7.  -6.  -5.  -4.  -3.  -2.  -1.   0.   1.   2.\n",
      "   3.   4.   5.   6.   7.   8.   9.  10.  11.  12.  13.  14.  15.  16.]\n",
      "k = 29 \terror = 274.64341 \tx' = [52. 53. 54. 55. 56. 57. 58. 59. 60. 61. 62. 63. 64. 65. 66. 67. 68. 69.\n",
      " 70. 71. 72. 73. 74. 75. 76. 77. 78. 79. 80.]\n",
      "k = 30 \terror = 339.58799 \tx' = [-61. -60. -59. -58. -57. -56. -55. -54. -53. -52. -51. -50. -49. -48.\n",
      " -47. -46. -45. -44. -43. -42. -41. -40. -39. -38. -37. -36. -35. -34.\n",
      " -33. -32.]\n"
     ]
    }
   ],
   "source": [
    "random.seed()\n",
    "def generate_diagonal_matrix(k):\n",
    "    values = [0, -1, -2, -3, -4, -5, -6]\n",
    "    noise = 10**(-k)\n",
    "    matrix = np.zeros((k, k))\n",
    "    for i in range(k):\n",
    "        for j in range(k):\n",
    "            matrix[i][j] = random.choice(values)\n",
    "    for i in range(k):\n",
    "        matrix[i][i] = -(sum(matrix[i]) - matrix[i][i]) + noise\n",
    "    return matrix\n",
    "\n",
    "def solve_d_system(k):\n",
    "    A = generate_diagonal_matrix(k)\n",
    "#     while abs(np.linalg.det(A)) < 10**(-5):\n",
    "#         A = generate_diagonal_matrix(k)\n",
    "    x = [x for x in range(1, k + 1)]\n",
    "    F = np.dot(A, x)\n",
    "    x_new = solve(csr(A), F)\n",
    "    error = np.linalg.norm(x - x_new)\n",
    "    return x_new, error\n",
    "\n",
    "def solve_d_systems(k):\n",
    "#     \"\"\"\n",
    "    error_array = []\n",
    "    x_new_array = []\n",
    "    for i in range(1, k + 1):\n",
    "        x_new, error = solve_d_system(i)\n",
    "        x_new_array.append(x_new)\n",
    "        error_array.append(error)\n",
    "        print(\"k =\", i, \"\\terror =\", round(error, 5), \"\\tx' =\", x_new)\n",
    "#     \"\"\"\n",
    "\n",
    "        \n",
    "solve_d_systems(30)\n",
    "# generate_diagonal_matrix(3)"
   ]
  },
  {
   "cell_type": "markdown",
   "metadata": {},
   "source": [
    "# Gilbert Matrices"
   ]
  },
  {
   "cell_type": "code",
   "execution_count": null,
   "metadata": {},
   "outputs": [],
   "source": [
    "def generate_gilbert_matrix(k):\n",
    "    matrix = np.zeros((k, k))\n",
    "    for i in range(k):\n",
    "        for j in range(k):\n",
    "            matrix[i][j] = 1 / (i + j + 1)\n",
    "    return matrix\n",
    "\n",
    "\n",
    "def solve_system(k):\n",
    "    A = generate_gilbert_matrix(k)\n",
    "    x = np.zeros((k))\n",
    "    for i in range(k):\n",
    "        x[i] = i + 1\n",
    "    F = np.dot(A, x)\n",
    "    x_new = solve(csr(A), F)\n",
    "    error = np.linalg.norm(x - x_new)\n",
    "    return x_new, error\n",
    "    \n",
    "\n",
    "def solve_systems(k):\n",
    "    error_array = []\n",
    "    x_new_array = []\n",
    "    for i in range(1, k + 1):\n",
    "        x_new, error = solve_system(i)\n",
    "        x_new_array.append(x_new)\n",
    "        error_array.append(error)\n",
    "        print(\"k =\", i, \"\\terror =\", round(error, 5), \"\\tx' =\", x_new, \"\\n\")\n",
    "    return error_array, x_new_array\n",
    "    \n",
    "\n",
    "solve_systems(15)"
   ]
  }
 ],
 "metadata": {
  "kernelspec": {
   "display_name": "Python 3",
   "language": "python",
   "name": "python3"
  },
  "language_info": {
   "codemirror_mode": {
    "name": "ipython",
    "version": 3
   },
   "file_extension": ".py",
   "mimetype": "text/x-python",
   "name": "python",
   "nbconvert_exporter": "python",
   "pygments_lexer": "ipython3",
   "version": "3.8.5"
  }
 },
 "nbformat": 4,
 "nbformat_minor": 4
}
