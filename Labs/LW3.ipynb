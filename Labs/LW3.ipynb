{
 "cells": [
  {
   "cell_type": "code",
   "execution_count": 2,
   "metadata": {},
   "outputs": [],
   "source": [
    "import numpy as np\n",
    "from scipy.sparse import csr_matrix as csr\n",
    "from scipy.sparse import eye\n",
    "import random"
   ]
  },
  {
   "cell_type": "code",
   "execution_count": 3,
   "metadata": {},
   "outputs": [],
   "source": [
    "from prettytable import PrettyTable\n",
    "\n",
    "def print_matrix(A):\n",
    "    k, n = A.shape\n",
    "    p = PrettyTable()\n",
    "    for i in range(k):\n",
    "        for j in range(k):\n",
    "            A[i][j] = round(A[i][j], 3)\n",
    "        p.add_row(A[i])\n",
    "    print(p.get_string(header=False, border=False))\n",
    "    print()"
   ]
  },
  {
   "cell_type": "code",
   "execution_count": 4,
   "metadata": {},
   "outputs": [
    {
     "name": "stdout",
     "output_type": "stream",
     "text": [
      "Requirement already satisfied: PrettyTable in /opt/anaconda3/lib/python3.8/site-packages (2.0.0)\n",
      "Requirement already satisfied: setuptools in /opt/anaconda3/lib/python3.8/site-packages (from PrettyTable) (50.3.1.post20201107)\n",
      "Requirement already satisfied: wcwidth in /opt/anaconda3/lib/python3.8/site-packages (from PrettyTable) (0.2.5)\n",
      "Note: you may need to restart the kernel to use updated packages.\n"
     ]
    }
   ],
   "source": [
    "pip install PrettyTable"
   ]
  },
  {
   "cell_type": "markdown",
   "metadata": {},
   "source": [
    "# LU Decomposition"
   ]
  },
  {
   "cell_type": "code",
   "execution_count": 5,
   "metadata": {},
   "outputs": [],
   "source": [
    "def LU_decompse(A): # LU разложение Вход 2х мерный массив, Выход 2х мерные массивы\n",
    "    n_rows = len(A)\n",
    "    n_cols = len(A[0])\n",
    "    L = np.eye(n_rows, n_cols)\n",
    "    U = np.zeros((n_rows, n_cols))\n",
    "    for i in range(n_rows):\n",
    "        for j in range(n_cols):\n",
    "            if i <= j:\n",
    "                _s = 0\n",
    "                for k in range(i):\n",
    "                    _s += L[i][k] * U[k][j]\n",
    "                U[i][j] = A[i][j] - _s\n",
    "            else:\n",
    "                _s = 0\n",
    "                for k in range(j):\n",
    "                    _s += L[i][k] * U[k][j]\n",
    "                L[i][j] = (A[i][j] - _s) / U[j][j]\n",
    "    return L, U"
   ]
  },
  {
   "cell_type": "code",
   "execution_count": 6,
   "metadata": {},
   "outputs": [],
   "source": [
    "def LU_decompse_csr(A): # LU разложение Вход csr матрица Выход csr матрица (не оптимально)\n",
    "    n_rows, n_cols = A.shape\n",
    "    L = eye(n_rows, n_cols, format=\"csr\")\n",
    "    U = csr((n_rows, n_cols), dtype=float)\n",
    "    for i in range(n_rows):\n",
    "        for j in range(n_cols):\n",
    "            if i <= j:\n",
    "                _s = 0\n",
    "                for k in range(i):\n",
    "                    _s += L[i, k] * U[k, j]\n",
    "                U[i, j] = A[i, j] - _s\n",
    "            else:\n",
    "                _s = 0\n",
    "                for k in range(j):\n",
    "                    _s += L[i, k] * U[k, j]\n",
    "                L[i, j] = (A[i, j] - _s) / U[j, j]\n",
    "    return L, U"
   ]
  },
  {
   "cell_type": "code",
   "execution_count": 7,
   "metadata": {},
   "outputs": [],
   "source": [
    "def LU_decompse_csr_full(A):\n",
    "    n_rows, n_cols = A.shape\n",
    "    l_data = []\n",
    "    l_indices = []\n",
    "    l_indptr = []\n",
    "    u_data = []\n",
    "    u_indices = []\n",
    "    u_indptr = []\n",
    "    for i in range(n_rows):\n",
    "        l_indptr.append(len(l_data))\n",
    "        u_indptr.append(len(u_data))\n",
    "        for j in range(n_cols):\n",
    "            if i <= j:\n",
    "                _s = 0\n",
    "                if i == j:\n",
    "                    l_data.append(1)\n",
    "                    l_indices.append(j)\n",
    "                for x, y in zip(l_data[l_indptr[i]:], list(map(lambda x: x[0], filter(lambda x: x[1] == j, zip(u_data, u_indices))))):\n",
    "                    _s += x * y\n",
    "                u_data.append(A[i, j] - _s)\n",
    "                u_indices.append(j)\n",
    "            else:\n",
    "                _s = 0\n",
    "                for x, y in zip(l_data[l_indptr[i]:], list(map(lambda x: x[0], filter(lambda x: x[1] == j, zip(u_data, u_indices))))):\n",
    "                    _s += x * y\n",
    "                l_data.append((A[i, j] - _s) / u_data[u_indptr[j]])\n",
    "                l_indices.append(j)\n",
    "    l_indptr.append(len(l_data))\n",
    "    u_indptr.append(len(u_data))\n",
    "    return csr((l_data, l_indices, l_indptr)), csr((u_data, u_indices, u_indptr))"
   ]
  },
  {
   "cell_type": "markdown",
   "metadata": {},
   "source": [
    "## Example"
   ]
  },
  {
   "cell_type": "code",
   "execution_count": 8,
   "metadata": {},
   "outputs": [
    {
     "name": "stdout",
     "output_type": "stream",
     "text": [
      "Matrix A\n",
      " 6   -3  5   0   2  0  0  \n",
      " -4  0   7   -3  0  2  0  \n",
      " 0   9   -3  -6  0  7  1  \n",
      " 5   -2  0   0   1  7  -3 \n",
      " -1  0   0   5   0  2  0  \n",
      " 9   -8  7   0   2  3  0  \n",
      " 3   0   -4  1   9  0  5  \n",
      "\n",
      "Matrix L\n",
      "  1.0     0.0    0.0     0.0      0.0      0.0    0.0 \n",
      " -0.667   1.0    0.0     0.0      0.0      0.0    0.0 \n",
      "  0.0     -4.5   1.0     0.0      0.0      0.0    0.0 \n",
      " 0.833   -0.25  -0.036   1.0      0.0      0.0    0.0 \n",
      " -0.167   0.25  -0.04   -3.402    1.0      0.0    0.0 \n",
      "  1.5     1.75  -0.427   2.11    3.526     1.0    0.0 \n",
      "  0.5    -0.75  0.029   0.472   -59.368  -15.245  1.0 \n",
      "\n",
      "Matrix U\n",
      " 6.0  -3.0   5.0     0.0    2.0      0.0       0.0   \n",
      " 0.0  -2.0  10.333   -3.0  1.333     2.0       0.0   \n",
      " 0.0  0.0    43.5   -19.5   6.0      16.0      1.0   \n",
      " 0.0  0.0    0.0    -1.46  -0.115   8.082     -2.964 \n",
      " 0.0  0.0    0.0     0.0   -0.15    29.636   -10.041 \n",
      " 0.0  0.0    0.0     0.0    0.0    -115.228   42.088 \n",
      " 0.0  0.0    0.0     0.0    0.0      0.0      51.914 \n",
      "\n",
      "Matrix L * U\n",
      "  6.0     -3.0    5.0     0.0     2.0     0.0    0.0  \n",
      " -4.002  0.001   6.998    -3.0   -0.001   2.0    0.0  \n",
      "  0.0     9.0    -2.998   -6.0   0.002    7.0    1.0  \n",
      " 4.998   -1.999  0.016   -0.008  1.002   7.006   -3.0 \n",
      " -1.002  0.001   0.008   4.997    0.0    2.001  0.003 \n",
      "  9.0     -8.0   7.008   -0.004  1.999    2.99  0.002 \n",
      "  3.0     0.0    -3.988  0.995   9.025    -0.0  5.027 \n",
      "\n"
     ]
    }
   ],
   "source": [
    "A = np.array([\n",
    "    [6, -3, 5, 0, 2, 0, 0],\n",
    "    [-4, 0, 7, -3, 0, 2, 0],\n",
    "    [0, 9, -3, -6, 0, 7, 1],\n",
    "    [5, -2, 0, 0, 1, 7, -3],\n",
    "    [-1, 0, 0, 5, 0, 2, 0],\n",
    "    [9, -8, 7, 0, 2, 3, 0],\n",
    "    [3, 0, -4, 1, 9, 0, 5]\n",
    "])\n",
    "L, U = LU_decompse(A)\n",
    "print(\"Matrix A\")\n",
    "print_matrix(A)\n",
    "print(\"Matrix L\")\n",
    "print_matrix(L)\n",
    "print(\"Matrix U\")\n",
    "print_matrix(U)\n",
    "B = np.dot(L, U)\n",
    "print(\"Matrix L * U\")\n",
    "print_matrix(B)"
   ]
  },
  {
   "cell_type": "code",
   "execution_count": 9,
   "metadata": {},
   "outputs": [
    {
     "name": "stdout",
     "output_type": "stream",
     "text": [
      "[[ 1.00000000e+00  0.00000000e+00  0.00000000e+00  0.00000000e+00\n",
      "   0.00000000e+00  0.00000000e+00  0.00000000e+00]\n",
      " [-6.66666667e-01  1.00000000e+00  0.00000000e+00  0.00000000e+00\n",
      "   0.00000000e+00  0.00000000e+00  0.00000000e+00]\n",
      " [ 0.00000000e+00 -4.50000000e+00  1.00000000e+00  0.00000000e+00\n",
      "   0.00000000e+00  0.00000000e+00  0.00000000e+00]\n",
      " [ 8.33333333e-01 -2.50000000e-01 -3.63984674e-02  1.00000000e+00\n",
      "   0.00000000e+00  0.00000000e+00  0.00000000e+00]\n",
      " [-1.66666667e-01  2.50000000e-01 -4.02298851e-02 -3.40157480e+00\n",
      "   1.00000000e+00  0.00000000e+00  0.00000000e+00]\n",
      " [ 1.50000000e+00  1.75000000e+00 -4.27203065e-01  2.11023622e+00\n",
      "   3.52631579e+00  1.00000000e+00  0.00000000e+00]\n",
      " [ 5.00000000e-01 -7.50000000e-01  2.87356322e-02  4.72440945e-01\n",
      "  -5.93684211e+01 -1.52453563e+01  1.00000000e+00]]\n"
     ]
    }
   ],
   "source": [
    "A = np.array([\n",
    "    [6, -3, 5, 0, 2, 0, 0],\n",
    "    [-4, 0, 7, -3, 0, 2, 0],\n",
    "    [0, 9, -3, -6, 0, 7, 1],\n",
    "    [5, -2, 0, 0, 1, 7, -3],\n",
    "    [-1, 0, 0, 5, 0, 2, 0],\n",
    "    [9, -8, 7, 0, 2, 3, 0],\n",
    "    [3, 0, -4, 1, 9, 0, 5]\n",
    "])\n",
    "L, U = LU_decompse_csr_full(A)\n",
    "print(L.toarray())"
   ]
  },
  {
   "cell_type": "code",
   "execution_count": 10,
   "metadata": {},
   "outputs": [
    {
     "name": "stdout",
     "output_type": "stream",
     "text": [
      " 10.0  -7.667  0.0 \n",
      " -3.0   6.0    2.0 \n",
      " 5.0    -1.0   5.0 \n",
      "\n"
     ]
    }
   ],
   "source": [
    "A = np.array([[10, -7.6666, 0], \n",
    "              [-3, 6, 2], \n",
    "              [5, -1, 5]])\n",
    "\n",
    "print_matrix(A)\n",
    "# sA = csr(A)\n",
    "# print(\"sA\")\n",
    "# print(sA)\n",
    "\n",
    "# print(LU_decompse(A))\n",
    "# l, u =  LU_decompse_csr(sA)\n",
    "# print(\"L: \", l)\n",
    "# print(\"U: \", u)\n",
    "\n",
    "# l, u = LU_decompse_csr_full(sA)\n",
    "# print(\"L: \", l.toarray())\n",
    "# print(\"U: \", u.toarray())"
   ]
  },
  {
   "cell_type": "markdown",
   "metadata": {},
   "source": [
    "# Usage of sparse matrices"
   ]
  },
  {
   "cell_type": "code",
   "execution_count": 11,
   "metadata": {},
   "outputs": [
    {
     "data": {
      "text/plain": [
       "<3x3 sparse matrix of type '<class 'numpy.int64'>'\n",
       "\twith 6 stored elements in Compressed Sparse Row format>"
      ]
     },
     "execution_count": 11,
     "metadata": {},
     "output_type": "execute_result"
    }
   ],
   "source": [
    "row = np.array([0, 0, 1, 2, 2, 2])\n",
    "col = np.array([0, 2, 2, 0, 1, 2])\n",
    "data = np.array([1, 2, 3, 4, 5, 6])\n",
    "mtx = csr((data, (row, col)), shape=(3, 3))\n",
    "mtx     "
   ]
  },
  {
   "cell_type": "code",
   "execution_count": 12,
   "metadata": {},
   "outputs": [
    {
     "data": {
      "text/plain": [
       "matrix([[1, 0, 2],\n",
       "        [0, 0, 3],\n",
       "        [4, 5, 6]])"
      ]
     },
     "execution_count": 12,
     "metadata": {},
     "output_type": "execute_result"
    }
   ],
   "source": [
    "mtx.todense()"
   ]
  },
  {
   "cell_type": "code",
   "execution_count": 13,
   "metadata": {},
   "outputs": [
    {
     "data": {
      "text/plain": [
       "array([1, 2, 3, 4, 5, 6])"
      ]
     },
     "execution_count": 13,
     "metadata": {},
     "output_type": "execute_result"
    }
   ],
   "source": [
    "mtx.data"
   ]
  },
  {
   "cell_type": "code",
   "execution_count": 14,
   "metadata": {},
   "outputs": [
    {
     "data": {
      "text/plain": [
       "array([0, 2, 2, 0, 1, 2], dtype=int32)"
      ]
     },
     "execution_count": 14,
     "metadata": {},
     "output_type": "execute_result"
    }
   ],
   "source": [
    "mtx.indices"
   ]
  },
  {
   "cell_type": "code",
   "execution_count": 15,
   "metadata": {},
   "outputs": [
    {
     "data": {
      "text/plain": [
       "array([0, 2, 3, 6], dtype=int32)"
      ]
     },
     "execution_count": 15,
     "metadata": {},
     "output_type": "execute_result"
    }
   ],
   "source": [
    "mtx.indptr"
   ]
  },
  {
   "cell_type": "markdown",
   "metadata": {},
   "source": [
    "# Solving a system of linear equations"
   ]
  },
  {
   "cell_type": "markdown",
   "metadata": {},
   "source": [
    "## Additional functions"
   ]
  },
  {
   "cell_type": "code",
   "execution_count": 16,
   "metadata": {},
   "outputs": [],
   "source": [
    "# get i-th row of sparse matrix A\n",
    "\n",
    "def get_row(A, i):\n",
    "    _, n = A.shape\n",
    "    row = np.zeros(n)\n",
    "    non_zero_elements_in_row = A.data[A.indptr[i]:A.indptr[i + 1]]\n",
    "    indices_of_non_zero_elements_in_row = A.indices[A.indptr[i]:A.indptr[i + 1]]\n",
    "    k = 0\n",
    "    for i in range(n):\n",
    "        if k < len(non_zero_elements_in_row) and i == indices_of_non_zero_elements_in_row[k]:\n",
    "            row[i] = non_zero_elements_in_row[k]\n",
    "            k += 1\n",
    "    return row"
   ]
  },
  {
   "cell_type": "code",
   "execution_count": 17,
   "metadata": {},
   "outputs": [],
   "source": [
    "# get matrix norm\n",
    "\n",
    "def norm(A):\n",
    "    result = 0\n",
    "    k, n = A.shape\n",
    "    for i in range(k):\n",
    "        for j in range(n):\n",
    "            result += A[i][j] ** 2\n",
    "    return np.sqrt(result)"
   ]
  },
  {
   "cell_type": "code",
   "execution_count": 18,
   "metadata": {},
   "outputs": [],
   "source": [
    "# get conditional number of matrix\n",
    "\n",
    "def get_conditional_number(A):\n",
    "    A_inverse = inverse(A).todense()\n",
    "    A_inverse = np.squeeze(np.asarray(A_inverse))\n",
    "    return norm(A) * norm(A_inverse)"
   ]
  },
  {
   "cell_type": "markdown",
   "metadata": {},
   "source": [
    "## Solve function"
   ]
  },
  {
   "cell_type": "code",
   "execution_count": 19,
   "metadata": {},
   "outputs": [],
   "source": [
    "# A: sparse matrix\n",
    "# b: array of values\n",
    "\n",
    "def solve(A, b):\n",
    "    L, U = LU_decompse_csr_full(A)\n",
    "    _, n = A.shape\n",
    "    \n",
    "    # solving Ly = b\n",
    "    y = np.zeros(n)\n",
    "    for i in range(n):\n",
    "        row = get_row(L, i)\n",
    "        y[i] = b[i] - np.dot(y[:i], row[:i])\n",
    "    \n",
    "    # solving Ux = y\n",
    "    x = np.zeros(n)\n",
    "    for i in range(n - 1, -1, -1):\n",
    "        row = get_row(U, i)\n",
    "        x[i] = (y[i] - np.dot(x[i + 1:], row[i + 1:])) / row[i]\n",
    "        \n",
    "    return x"
   ]
  },
  {
   "cell_type": "markdown",
   "metadata": {},
   "source": [
    "## Example"
   ]
  },
  {
   "cell_type": "code",
   "execution_count": 20,
   "metadata": {},
   "outputs": [
    {
     "name": "stdout",
     "output_type": "stream",
     "text": [
      "Matrix A\n",
      " 10  -7  2   -3  0   0 \n",
      " -3  4   6   0   5   4 \n",
      " 5   -1  5   -9  2   8 \n",
      " 0   1   -6  3   2   7 \n",
      " 0   0   0   5   -9  3 \n",
      " 6   0   4   7   -2  0 \n",
      "\n",
      "Vector b\n",
      " [-15, 23, -3, -34, 27, 8] \n",
      "\n",
      "Vector x\n",
      "  [-4.17801592 -2.74871319  5.30844092  1.02590499 -2.32649847  0.31066295] \n",
      "\n",
      "Vector A * x\n",
      "[-15.  23.  -3. -34.  27.   8.]\n"
     ]
    }
   ],
   "source": [
    "A = np.array([[10, -7, 2, -3, 0, 0], \n",
    "              [-3, 4, 6, 0, 5, 4], \n",
    "              [5, -1, 5, -9, 2, 8],\n",
    "              [0, 1, -6, 3, 2, 7],\n",
    "              [0, 0, 0, 5, -9, 3],\n",
    "              [6, 0, 4, 7, -2, 0]\n",
    "])\n",
    "b = [-15, 23, -3, -34, 27, 8]\n",
    "x = solve(csr(A), b)\n",
    "print(\"Matrix A\")\n",
    "print_matrix(A)\n",
    "print(\"Vector b\\n\", b, \"\\n\")\n",
    "print(\"Vector x\\n \", x, \"\\n\")\n",
    "print(\"Vector A * x\")\n",
    "print(np.dot(A, x))"
   ]
  },
  {
   "cell_type": "markdown",
   "metadata": {},
   "source": [
    "# Finding inverse matrix"
   ]
  },
  {
   "cell_type": "code",
   "execution_count": 21,
   "metadata": {},
   "outputs": [],
   "source": [
    "def inverse(A):\n",
    "    _, n = A.shape\n",
    "    I = np.eye(n)\n",
    "    A_inverse = np.zeros(A.shape)\n",
    "    for i in range(n):\n",
    "        x = solve(A, I[:, i])\n",
    "        A_inverse[:, i] = x\n",
    "    return csr(A_inverse)"
   ]
  },
  {
   "cell_type": "markdown",
   "metadata": {},
   "source": [
    "## Example"
   ]
  },
  {
   "cell_type": "code",
   "execution_count": 22,
   "metadata": {},
   "outputs": [
    {
     "name": "stdout",
     "output_type": "stream",
     "text": [
      "Matrix A\n",
      " 3  -5  0   2   0  8  \n",
      " 4  1   2   0   4  3  \n",
      " 1  -1  3   0   2  0  \n",
      " 0  1   9   -2  5  0  \n",
      " 7  -4  -5  0   6  -3 \n",
      " 0  -4  2   8   0  7  \n",
      "\n",
      "Inverse Matrix A\n",
      "[[-0.065  0.275  1.12  -0.492 -0.147 -0.107]\n",
      " [-0.117  0.218 -0.04  -0.076 -0.069  0.01 ]\n",
      " [-0.034  0.06   0.647 -0.172 -0.112 -0.034]\n",
      " [-0.149  0.083  0.266 -0.147 -0.022  0.126]\n",
      " [ 0.026 -0.119 -1.05   0.467  0.207  0.11 ]\n",
      " [ 0.114  0.012 -0.511  0.174  0.017  0.015]] \n",
      "\n",
      "Matrix E\n",
      "[[ 1.000e+00  0.000e+00  0.000e+00  0.000e+00  0.000e+00  5.551e-17]\n",
      " [ 1.110e-16  1.000e+00  4.441e-16 -2.220e-16 -4.163e-17  2.776e-17]\n",
      " [ 1.388e-17 -2.776e-17  1.000e+00 -2.776e-17  4.163e-17  1.735e-18]\n",
      " [ 1.110e-16 -3.469e-17  3.331e-16  1.000e+00 -6.939e-17 -5.551e-17]\n",
      " [ 4.996e-16 -2.220e-16 -1.776e-15  4.441e-16  1.000e+00  3.331e-16]\n",
      " [ 6.800e-16 -5.135e-16  1.332e-15 -3.220e-15 -3.886e-16  1.000e+00]]\n"
     ]
    }
   ],
   "source": [
    "A = np.array([\n",
    "    [3, -5, 0, 2, 0, 8],\n",
    "    [4, 1, 2, 0, 4, 3],\n",
    "    [1, -1, 3, 0, 2, 0],\n",
    "    [0, 1, 9, -2, 5, 0],\n",
    "    [7, -4, -5, 0, 6, -3],\n",
    "    [0, -4, 2, 8, 0, 7]\n",
    "])\n",
    "\n",
    "np.set_printoptions(precision=3)\n",
    "\n",
    "print(\"Matrix A\")\n",
    "print_matrix(A)\n",
    "print(\"Inverse Matrix A\")\n",
    "A_inverse = inverse(csr(A)).todense()\n",
    "print(A_inverse, \"\\n\")\n",
    "print(\"Matrix E\")\n",
    "E = np.dot(A, A_inverse)\n",
    "print(E)"
   ]
  },
  {
   "cell_type": "markdown",
   "metadata": {},
   "source": [
    "# Diagonal Matrices"
   ]
  },
  {
   "cell_type": "code",
   "execution_count": 23,
   "metadata": {},
   "outputs": [
    {
     "name": "stdout",
     "output_type": "stream",
     "text": [
      "k = 1 \terror = 0.0 \tx' = [1.]\n",
      "k = 2 \terror = 0.0 \tx' = [1. 2.]\n",
      "k = 3 \terror = 0.0 \tx' = [1. 2. 3.]\n",
      "k = 4 \terror = 0.0 \tx' = [1. 2. 3. 4.]\n",
      "k = 5 \terror = 0.0 \tx' = [1. 2. 3. 4. 5.]\n",
      "k = 6 \terror = 0.0 \tx' = [1. 2. 3. 4. 5. 6.]\n",
      "k = 7 \terror = 0.0 \tx' = [1. 2. 3. 4. 5. 6. 7.]\n",
      "k = 8 \terror = 0.0 \tx' = [1. 2. 3. 4. 5. 6. 7. 8.]\n",
      "k = 9 \terror = 0.0 \tx' = [1. 2. 3. 4. 5. 6. 7. 8. 9.]\n",
      "k = 10 \terror = 3e-05 \tx' = [ 1.  2.  3.  4.  5.  6.  7.  8.  9. 10.]\n",
      "k = 11 \terror = 0.00096 \tx' = [ 1.  2.  3.  4.  5.  6.  7.  8.  9. 10. 11.]\n",
      "k = 12 \terror = 0.00654 \tx' = [ 0.998  1.998  2.998  3.998  4.998  5.998  6.998  7.998  8.998  9.998\n",
      " 10.998 11.998]\n",
      "k = 13 \terror = 0.19667 \tx' = [ 1.055  2.055  3.055  4.055  5.055  6.055  7.055  8.055  9.055 10.055\n",
      " 11.055 12.055 13.055]\n",
      "k = 14 \terror = 5.72253 \tx' = [ 2.529  3.529  4.529  5.529  6.529  7.529  8.529  9.529 10.529 11.529\n",
      " 12.529 13.529 14.529 15.529]\n",
      "k = 15 \terror = 42.60282 \tx' = [-1.000e+01 -9.000e+00 -8.000e+00 -7.000e+00 -6.000e+00 -5.000e+00\n",
      " -4.000e+00 -3.000e+00 -2.000e+00 -1.000e+00  7.382e-16  1.000e+00\n",
      "  2.000e+00  3.000e+00  4.000e+00]\n"
     ]
    }
   ],
   "source": [
    "random.seed()\n",
    "def generate_diagonal_matrix(k):\n",
    "    values = [0, -1, -2, -3, -4, -5, -6]\n",
    "    noise = 10**(-k)\n",
    "    matrix = np.zeros((k, k))\n",
    "    for i in range(k):\n",
    "        for j in range(k):\n",
    "            matrix[i][j] = random.choice(values)\n",
    "    for i in range(k):\n",
    "        matrix[i][i] = -(sum(matrix[i]) - matrix[i][i]) + noise\n",
    "    return matrix\n",
    "\n",
    "def solve_d_system(k):\n",
    "    A = generate_diagonal_matrix(k)\n",
    "#     while abs(np.linalg.det(A)) < 10**(-5):\n",
    "#         A = generate_diagonal_matrix(k)\n",
    "    x = [x for x in range(1, k + 1)]\n",
    "    F = np.dot(A, x)\n",
    "    x_new = solve(csr(A), F)\n",
    "    error = np.linalg.norm(x - x_new)\n",
    "    return x_new, error\n",
    "\n",
    "def solve_d_systems(k):\n",
    "    error_array = []\n",
    "    x_new_array = []\n",
    "    for i in range(1, k + 1):\n",
    "        x_new, error = solve_d_system(i)\n",
    "        x_new_array.append(x_new)\n",
    "        error_array.append(error)\n",
    "        print(\"k =\", i, \"\\terror =\", round(error, 5), \"\\tx' =\", x_new)\n",
    "\n",
    "        \n",
    "solve_d_systems(15)"
   ]
  },
  {
   "cell_type": "markdown",
   "metadata": {},
   "source": [
    "# Gilbert Matrices"
   ]
  },
  {
   "cell_type": "code",
   "execution_count": 24,
   "metadata": {},
   "outputs": [
    {
     "name": "stdout",
     "output_type": "stream",
     "text": [
      "k = 2 \terror = 0.0 \tconditional number = 19.333333333333336 \n",
      "x' = [1. 2.] \n",
      "\n",
      "k = 3 \terror = 0.0 \tconditional number = 526.1588210797213 \n",
      "x' = [1. 2. 3.] \n",
      "\n",
      "k = 4 \terror = 0.0 \tconditional number = 15613.79355963998 \n",
      "x' = [1. 2. 3. 4.] \n",
      "\n",
      "k = 5 \terror = 0.0 \tconditional number = 480849.1169937436 \n",
      "x' = [1. 2. 3. 4. 5.] \n",
      "\n",
      "k = 6 \terror = 0.0 \tconditional number = 15118987.129212683 \n",
      "x' = [1. 2. 3. 4. 5. 6.] \n",
      "\n",
      "k = 7 \terror = 0.0 \tconditional number = 481747256.05358005 \n",
      "x' = [1. 2. 3. 4. 5. 6. 7.] \n",
      "\n",
      "k = 8 \terror = 0.0 \tconditional number = 15493619331.329567 \n",
      "x' = [1. 2. 3. 4. 5. 6. 7. 8.] \n",
      "\n",
      "k = 9 \terror = 0.00016 \tconditional number = 501729608115.98737 \n",
      "x' = [1. 2. 3. 4. 5. 6. 7. 8. 9.] \n",
      "\n",
      "k = 10 \terror = 0.00041 \tconditional number = 16331278452337.033 \n",
      "x' = [ 1.  2.  3.  4.  5.  6.  7.  8.  9. 10.] \n",
      "\n",
      "k = 11 \terror = 0.0345 \tconditional number = 532286585396228.3 \n",
      "x' = [ 1.     2.     3.     4.     4.998  6.008  6.984  8.022  8.982 10.008\n",
      " 10.998] \n",
      "\n",
      "k = 12 \terror = 3.89577 \tconditional number = 1.6839048020919126e+16 \n",
      "x' = [ 1.     2.     2.999  4.013  4.907  6.41   5.861 10.059  6.59  11.762\n",
      " 10.268 12.132] \n",
      "\n",
      "k = 13 \terror = 357.85277 \tconditional number = 5.469989979671195e+17 \n",
      "x' = [   1.       2.001    2.98     4.334    2.01    22.194  -49.432  138.741\n",
      " -194.465  220.2   -127.235   64.375    4.299] \n",
      "\n",
      "k = 14 \terror = 195.92304 \tconditional number = 5.616357606777677e+17 \n",
      "x' = [   1.       2.       2.998    4.013    5.023    4.957   14.577  -21.39\n",
      "   80.014 -102.001  126.621  -63.426   41.24     9.373] \n",
      "\n",
      "k = 15 \terror = 242.31331 \tconditional number = 4.739030972839064e+17 \n",
      "x' = [   1.       2.       3.001    3.973    5.332    3.57    18.524  -29.033\n",
      "   91.642 -119.289  152.061  -92.898   63.541   -0.174   16.749] \n",
      "\n"
     ]
    },
    {
     "data": {
      "text/plain": [
       "([1.4895204919483639e-15,\n",
       "  1.4895204919483639e-15,\n",
       "  2.430119701128671e-12,\n",
       "  3.507528484380447e-11,\n",
       "  3.5876912959877836e-09,\n",
       "  9.513819437681708e-08,\n",
       "  1.3291634883106896e-06,\n",
       "  0.0001644389083877056,\n",
       "  0.000406020022566205,\n",
       "  0.034503490462739116,\n",
       "  3.8957725013405997,\n",
       "  357.8527735697525,\n",
       "  195.9230395442151,\n",
       "  242.31330546983443],\n",
       " [array([1., 2.]),\n",
       "  array([1., 2., 3.]),\n",
       "  array([1., 2., 3., 4.]),\n",
       "  array([1., 2., 3., 4., 5.]),\n",
       "  array([1., 2., 3., 4., 5., 6.]),\n",
       "  array([1., 2., 3., 4., 5., 6., 7.]),\n",
       "  array([1., 2., 3., 4., 5., 6., 7., 8.]),\n",
       "  array([1., 2., 3., 4., 5., 6., 7., 8., 9.]),\n",
       "  array([ 1.,  2.,  3.,  4.,  5.,  6.,  7.,  8.,  9., 10.]),\n",
       "  array([ 1.   ,  2.   ,  3.   ,  4.   ,  4.998,  6.008,  6.984,  8.022,\n",
       "          8.982, 10.008, 10.998]),\n",
       "  array([ 1.   ,  2.   ,  2.999,  4.013,  4.907,  6.41 ,  5.861, 10.059,\n",
       "          6.59 , 11.762, 10.268, 12.132]),\n",
       "  array([   1.   ,    2.001,    2.98 ,    4.334,    2.01 ,   22.194,\n",
       "          -49.432,  138.741, -194.465,  220.2  , -127.235,   64.375,\n",
       "            4.299]),\n",
       "  array([   1.   ,    2.   ,    2.998,    4.013,    5.023,    4.957,\n",
       "           14.577,  -21.39 ,   80.014, -102.001,  126.621,  -63.426,\n",
       "           41.24 ,    9.373]),\n",
       "  array([   1.   ,    2.   ,    3.001,    3.973,    5.332,    3.57 ,\n",
       "           18.524,  -29.033,   91.642, -119.289,  152.061,  -92.898,\n",
       "           63.541,   -0.174,   16.749])],\n",
       " [19.333333333333336,\n",
       "  526.1588210797213,\n",
       "  15613.79355963998,\n",
       "  480849.1169937436,\n",
       "  15118987.129212683,\n",
       "  481747256.05358005,\n",
       "  15493619331.329567,\n",
       "  501729608115.98737,\n",
       "  16331278452337.033,\n",
       "  532286585396228.3,\n",
       "  1.6839048020919126e+16,\n",
       "  5.469989979671195e+17,\n",
       "  5.616357606777677e+17,\n",
       "  4.739030972839064e+17])"
      ]
     },
     "execution_count": 24,
     "metadata": {},
     "output_type": "execute_result"
    }
   ],
   "source": [
    "def generate_gilbert_matrix(k):\n",
    "    matrix = np.zeros((k, k))\n",
    "    for i in range(k):\n",
    "        for j in range(k):\n",
    "            matrix[i][j] = 1 / (i + j + 1)\n",
    "    return matrix\n",
    "\n",
    "\n",
    "def solve_system(k):\n",
    "    A = generate_gilbert_matrix(k)\n",
    "    x = np.zeros((k))\n",
    "    for i in range(k):\n",
    "        x[i] = i + 1\n",
    "    F = np.dot(A, x)\n",
    "    x_new = solve(csr(A), F)\n",
    "    error = np.linalg.norm(x - x_new)\n",
    "    conditional_number = get_conditional_number(A)\n",
    "    return x_new, error, conditional_number\n",
    "    \n",
    "\n",
    "def solve_systems(k):\n",
    "    error_array = []\n",
    "    x_new_array = []\n",
    "    conditional_number_array = []\n",
    "    for i in range(2, k + 1):\n",
    "        x_new, error, conditional_number = solve_system(i)\n",
    "        x_new_array.append(x_new)\n",
    "        error_array.append(error)\n",
    "        conditional_number_array.append(conditional_number)\n",
    "        print(\"k =\", i, \"\\terror =\", round(error, 5), \"\\tconditional number =\", conditional_number, \"\\nx' =\", x_new, \"\\n\")\n",
    "    return error_array, x_new_array, conditional_number_array\n",
    "    \n",
    "\n",
    "solve_systems(15)"
   ]
  }
 ],
 "metadata": {
  "kernelspec": {
   "display_name": "Python 3",
   "language": "python",
   "name": "python3"
  },
  "language_info": {
   "codemirror_mode": {
    "name": "ipython",
    "version": 3
   },
   "file_extension": ".py",
   "mimetype": "text/x-python",
   "name": "python",
   "nbconvert_exporter": "python",
   "pygments_lexer": "ipython3",
   "version": "3.8.5"
  }
 },
 "nbformat": 4,
 "nbformat_minor": 4
}
